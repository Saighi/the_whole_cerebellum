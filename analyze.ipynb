{
 "cells": [
  {
   "cell_type": "code",
   "execution_count": 3,
   "metadata": {},
   "outputs": [],
   "source": [
    "import matplotlib.pyplot as plt \n",
    "import numpy as np\n",
    "from cerebellum_functionnal import *\n",
    "import pprint as pp"
   ]
  },
  {
   "cell_type": "code",
   "execution_count": 4,
   "metadata": {},
   "outputs": [],
   "source": [
    "def mean_weight(coupling,nb_connect,size_a,size_b):\n",
    "    return coupling*(1/((nb_connect*size_a)/size_b))\n",
    "\n",
    "def minimum_connect(nb_connect,size_a,size_b):\n",
    "    return int(((nb_connect*size_a)/size_b)/2)"
   ]
  },
  {
   "cell_type": "code",
   "execution_count": 5,
   "metadata": {},
   "outputs": [],
   "source": [
    "input_size=100\n",
    "DCN_size=100\n",
    "IO_size=100\n",
    "GC_size=100\n",
    "PC_size=1000\n",
    "coupling_GC_PC=1\n",
    "coupling_PC_DCN=5\n",
    "coupling_DCN_IO=5\n",
    "coupling_IO_PC=3\n",
    "coupling_PT_GC=1\n",
    "coupling_PT_DCN=1\n",
    "coupling_PT_IO=1\n",
    "# The number of connection a neuron from the source population will make with the target population\n",
    "nb_connect_GC_PC=100 # WARNING, certainly to wide for a normal activity vector\n",
    "nb_connect_PC_DCN=2\n",
    "nb_connect_DCN_IO=10\n",
    "nb_connect_IO_PC=None# the relative sizes of populations are enough to determine the number of connections\n",
    "nb_connect_PT_GC=10\n",
    "nb_connect_PT_DCN=10\n",
    "nb_connect_PT_IO=10\n",
    "# The minimum of connection a neuron from the target population should get from the source population\n",
    "minimum_connect_GC_PC = minimum_connect(nb_connect_GC_PC,GC_size,PC_size)\n",
    "minimum_connect_PC_DCN = minimum_connect(nb_connect_PC_DCN,PC_size,DCN_size)\n",
    "minimum_connect_DCN_IO = minimum_connect(nb_connect_DCN_IO,DCN_size,IO_size)\n",
    "minimum_connect_IO_PC = None # as the number of connection is determinist base on the relative sizes of populations \n",
    "minimum_connect_PT_GC = minimum_connect(nb_connect_PT_GC,input_size,GC_size)\n",
    "minimum_connect_PT_DCN = minimum_connect(nb_connect_PT_DCN,input_size,DCN_size)\n",
    "minimum_connect_PT_IO = minimum_connect(nb_connect_PT_IO,input_size,IO_size)\n",
    "\n",
    "\n",
    "cere_info = dict()\n",
    "cere_info[\"neuron_pop\"]=dict()\n",
    "cere_info[\"neuron_pop\"][\"DCN\"]=dict()\n",
    "cere_info[\"neuron_pop\"][\"DCN\"][\"size\"]=DCN_size\n",
    "\n",
    "cere_info[\"neuron_pop\"][\"IO\"]=dict()\n",
    "cere_info[\"neuron_pop\"][\"IO\"][\"size\"]=IO_size\n",
    "\n",
    "cere_info[\"neuron_pop\"][\"GC\"]=dict()\n",
    "cere_info[\"neuron_pop\"][\"GC\"][\"size\"]=GC_size\n",
    "\n",
    "cere_info[\"neuron_pop\"][\"PC\"]=dict()\n",
    "cere_info[\"neuron_pop\"][\"PC\"][\"size\"]=PC_size\n",
    "\n",
    "cere_info[\"neuron_pop\"][\"PT\"]=dict()\n",
    "cere_info[\"neuron_pop\"][\"PT\"][\"size\"]=input_size\n",
    "\n",
    "# create an activity vector variable for each region of the cerebellum (any local variable is considered a vector\n",
    "# and a tuple is used to store the shape)\n",
    "for key in cere_info[\"neuron_pop\"]:\n",
    "    cere_info[\"neuron_pop\"][key][\"local_variables\"]=dict()\n",
    "    cere_info[\"neuron_pop\"][key][\"local_variables\"][\"activity\"] = (cere_info[\"neuron_pop\"][key][\"size\"],1)\n",
    "    pass\n",
    "\n",
    "# Purkinje cells are a little bit special as we add a local variable called calcium to deal with synaptic plasticity\n",
    "\n",
    "cere_info[\"neuron_pop\"][\"PC\"][\"local_variables\"][\"calcium\"] = (cere_info[\"neuron_pop\"][\"PC\"][\"size\"],1)\n",
    "\n",
    "\"\"\" probability of connection based on the populations sizes \n",
    "and the divergence factor \"\"\"\n",
    "\n",
    "cere_info[\"synapse_pop\"]=dict()\n",
    "cere_info[\"synapse_pop\"][\"GC_PC\"]=dict()\n",
    "cere_info[\"synapse_pop\"][\"GC_PC\"][\"i_o\"]=(\"GC\",\"PC\")\n",
    "cere_info[\"synapse_pop\"][\"GC_PC\"][\"type\"]=\"excitatory\"\n",
    "cere_info[\"synapse_pop\"][\"GC_PC\"][\"nb_connect\"]=nb_connect_GC_PC\n",
    "cere_info[\"synapse_pop\"][\"GC_PC\"][\"minimum_connect\"]=minimum_connect_GC_PC\n",
    "cere_info[\"synapse_pop\"][\"GC_PC\"][\"plastic\"] = True\n",
    "\n",
    "cere_info[\"synapse_pop\"][\"PC_DCN\"]=dict()\n",
    "cere_info[\"synapse_pop\"][\"PC_DCN\"][\"i_o\"]=(\"PC\",\"DCN\")\n",
    "cere_info[\"synapse_pop\"][\"PC_DCN\"][\"type\"]=\"inhibitory\"\n",
    "cere_info[\"synapse_pop\"][\"PC_DCN\"][\"nb_connect\"]=nb_connect_PC_DCN\n",
    "cere_info[\"synapse_pop\"][\"PC_DCN\"][\"minimum_connect\"]=minimum_connect_PC_DCN\n",
    "cere_info[\"synapse_pop\"][\"PC_DCN\"][\"plastic\"] = False\n",
    "\n",
    "cere_info[\"synapse_pop\"][\"DCN_IO\"]=dict()\n",
    "cere_info[\"synapse_pop\"][\"DCN_IO\"][\"i_o\"]=(\"DCN\",\"IO\")\n",
    "cere_info[\"synapse_pop\"][\"DCN_IO\"][\"type\"]=\"inhibitory\"\n",
    "cere_info[\"synapse_pop\"][\"DCN_IO\"][\"nb_connect\"]=nb_connect_DCN_IO\n",
    "cere_info[\"synapse_pop\"][\"DCN_IO\"][\"minimum_connect\"]=minimum_connect_DCN_IO\n",
    "cere_info[\"synapse_pop\"][\"DCN_IO\"][\"plastic\"] = False\n",
    "\n",
    "cere_info[\"synapse_pop\"][\"IO_PC\"]=dict()\n",
    "cere_info[\"synapse_pop\"][\"IO_PC\"][\"i_o\"]=(\"IO\",\"PC\")\n",
    "cere_info[\"synapse_pop\"][\"IO_PC\"][\"type\"]=\"Undefined\"\n",
    "cere_info[\"synapse_pop\"][\"IO_PC\"][\"nb_connect\"]= nb_connect_IO_PC\n",
    "cere_info[\"synapse_pop\"][\"IO_PC\"][\"minimum_connect\"]= minimum_connect_IO_PC\n",
    "cere_info[\"synapse_pop\"][\"IO_PC\"][\"plastic\"] = False\n",
    "\n",
    "# cere_info[\"synapse_pop\"][\"PT_GC\"]=dict()\n",
    "# cere_info[\"synapse_pop\"][\"PT_GC\"][\"i_o\"]=(\"PT\",\"GC\")\n",
    "# cere_info[\"synapse_pop\"][\"PT_GC\"][\"type\"]=\"excitatory\"  #PT->GC DISABLED !\n",
    "# cere_info[\"synapse_pop\"][\"PT_GC\"][\"nb_connect\"]=nb_connect_PT_GC\n",
    "# cere_info[\"synapse_pop\"][\"PT_GC\"][\"minimum_connect\"]= minimum_connect_PT_GC\n",
    "# cere_info[\"synapse_pop\"][\"PT_GC\"][\"plastic\"] = False\n",
    "\n",
    "cere_info[\"synapse_pop\"][\"PT_DCN\"]=dict()\n",
    "cere_info[\"synapse_pop\"][\"PT_DCN\"][\"i_o\"]=(\"PT\",\"DCN\")\n",
    "cere_info[\"synapse_pop\"][\"PT_DCN\"][\"type\"]=\"excitatory\"\n",
    "cere_info[\"synapse_pop\"][\"PT_DCN\"][\"nb_connect\"]=nb_connect_PT_DCN\n",
    "cere_info[\"synapse_pop\"][\"PT_DCN\"][\"minimum_connect\"]= minimum_connect_PT_DCN\n",
    "cere_info[\"synapse_pop\"][\"PT_DCN\"][\"plastic\"] = False\n",
    "\n",
    "# cere_info[\"synapse_pop\"][\"PT_IO\"]=dict()\n",
    "# cere_info[\"synapse_pop\"][\"PT_IO\"][\"i_o\"]=(\"PT\",\"IO\")\n",
    "# cere_info[\"synapse_pop\"][\"PT_IO\"][\"type\"]=\"excitatory\" #PT->IO DISABLED !\n",
    "# cere_info[\"synapse_pop\"][\"PT_IO\"][\"nb_connect\"]=nb_connect_PT_IO\n",
    "# cere_info[\"synapse_pop\"][\"PT_IO\"][\"minimum_connect\"]= minimum_connect_PT_IO\n",
    "# cere_info[\"synapse_pop\"][\"PT_IO\"][\"plastic\"] = False\n",
    "\n",
    "cere_info[\"synapse_pop\"][\"GC_PC\"][\"mean_weight\"]=mean_weight(coupling_GC_PC,nb_connect_GC_PC,GC_size,PC_size) \n",
    "cere_info[\"synapse_pop\"][\"PC_DCN\"][\"mean_weight\"]=mean_weight(coupling_PC_DCN,nb_connect_PC_DCN,PC_size,DCN_size) \n",
    "cere_info[\"synapse_pop\"][\"DCN_IO\"][\"mean_weight\"]=mean_weight(coupling_DCN_IO,nb_connect_DCN_IO,DCN_size,IO_size) \n",
    "cere_info[\"synapse_pop\"][\"IO_PC\"][\"mean_weight\"]=coupling_IO_PC # as we have a one to one connectivity\n",
    "#cere_info[\"synapse_pop\"][\"PT_GC\"][\"mean_weight\"]=mean_weight(coupling_PT_GC,nb_connect_PT_GC,input_size,GC_size) \n",
    "cere_info[\"synapse_pop\"][\"PT_DCN\"][\"mean_weight\"]=mean_weight(coupling_PT_DCN,nb_connect_PT_DCN,input_size,DCN_size) \n",
    "#cere_info[\"synapse_pop\"][\"PT_IO\"][\"mean_weight\"]=mean_weight(coupling,nb_connect_PT_IO,input_size,IO_size) \n",
    "\n",
    "for key in cere_info[\"synapse_pop\"]:\n",
    "    cere_info[\"synapse_pop\"][key][\"local_variables\"]=dict()\n",
    "    input_pop = cere_info[\"synapse_pop\"][key][\"i_o\"][0]\n",
    "    input_pop_size = cere_info[\"neuron_pop\"][input_pop][\"size\"]\n",
    "    target_pop = cere_info[\"synapse_pop\"][key][\"i_o\"][1]\n",
    "    target_pop_size = cere_info[\"neuron_pop\"][target_pop][\"size\"]\n",
    "    cere_info[\"synapse_pop\"][key][\"local_variables\"][\"weight\"] = (input_pop_size,target_pop_size)"
   ]
  },
  {
   "cell_type": "code",
   "execution_count": 6,
   "metadata": {},
   "outputs": [],
   "source": [
    "def connected_to(ind_source,source,target):\n",
    "    return set(np.where(cere_state[\"synapse_pop\"][source+\"_\"+target][\"local_variables\"][\"connectivity\"][ind_source]==1)[0])\n",
    "    \n",
    "def connected_to_pop(ind_sources,source,target):\n",
    "    connected=set()\n",
    "    for ind_source in ind_sources:\n",
    "        connected= connected.union(connected_to(ind_source,source,target))\n",
    "    return connected"
   ]
  },
  {
   "cell_type": "code",
   "execution_count": 7,
   "metadata": {},
   "outputs": [],
   "source": [
    "nb_time_steps=1000"
   ]
  },
  {
   "cell_type": "code",
   "execution_count": 8,
   "metadata": {},
   "outputs": [],
   "source": [
    "\"Generate dict input :\"\n",
    "\n",
    "dict_input=dict()\n",
    "for neuron_pop in cere_info[\"neuron_pop\"]:\n",
    "    dict_input[neuron_pop]=dict()\n",
    "    for local_variable in cere_info[\"neuron_pop\"][neuron_pop][\"local_variables\"]:\n",
    "        dict_input[neuron_pop][local_variable]= np.zeros((nb_time_steps,cere_info[\"neuron_pop\"][neuron_pop][\"size\"]))\n",
    "\n",
    "stimulated_PT=[0,1,2,3,4,5]\n",
    "stimulated_GC=[0,1,2,3,4,5]\n",
    "stimulated_IO=[0,1,2,3,4,5]\n",
    "dict_input[\"PT\"][\"activity\"][:,stimulated_PT] =1 \n",
    "dict_input[\"GC\"][\"activity\"][:,stimulated_GC] =1 \n",
    "dict_input[\"IO\"][\"activity\"][:,stimulated_IO] =1 "
   ]
  },
  {
   "cell_type": "code",
   "execution_count": 9,
   "metadata": {},
   "outputs": [],
   "source": [
    "t = 0 \n",
    "activity_t = dict()\n",
    "for cere_state in whole_model_sim(cere_info,dict_input):\n",
    "    if t==0:\n",
    "        for neuron_pop in cere_state[\"neuron_pop\"]:\n",
    "            activity_t[neuron_pop]=np.zeros((nb_time_steps,cere_info[\"neuron_pop\"][neuron_pop][\"size\"]))\n",
    "        activity_t[\"GC_PC\"]=np.zeros((nb_time_steps,cere_info[\"neuron_pop\"][\"GC\"][\"size\"],cere_info[\"neuron_pop\"][\"PC\"][\"size\"]))\n",
    "    else :\n",
    "        for neuron_pop in cere_state[\"neuron_pop\"]:\n",
    "            activity_t[neuron_pop][t,:]=cere_state[\"neuron_pop\"][neuron_pop][\"local_variables\"][\"activity\"]\n",
    "        activity_t[\"GC_PC\"][t,:]=cere_state[\"synapse_pop\"][\"GC_PC\"][\"local_variables\"][\"weight\"]\n",
    "    if t==nb_time_steps-1:\n",
    "        cere_state_final=cere_state\n",
    "        break\n",
    "    t+=1"
   ]
  },
  {
   "cell_type": "code",
   "execution_count": 184,
   "metadata": {},
   "outputs": [],
   "source": [
    "#plt.plot([np.mean(i.flatten()) for i in activity_t[\"GC_PC\"]])#we need to remove all zeros\n",
    "#plt.plot([np.mean(t) for t in activity_t[\"PC\"]])\n",
    "#plt.hist(activity_t[\"DCN\"][-1]);"
   ]
  },
  {
   "cell_type": "code",
   "execution_count": 185,
   "metadata": {},
   "outputs": [],
   "source": [
    "connected_io_pc_zero = connected_to_pop(stimulated_IO,\"IO\",\"PC\")\n",
    "connected_gc_pc_zero = connected_to_pop(stimulated_GC,\"GC\",\"PC\")\n",
    "connected_pt_dcn_zero = connected_to_pop(stimulated_PT,\"PT\",\"DCN\")\n",
    "connected_pc_dcn_pop = connected_to_pop(connected_gc_pc_zero,\"PC\",\"DCN\")\n",
    "over_pc = connected_gc_pc_zero.intersection(connected_io_pc_zero)\n",
    "connected_over_pc_dcn_pop = connected_to_pop(over_pc,\"PC\",\"DCN\")\n",
    "reach_io = connected_to_pop(connected_over_pc_dcn_pop,\"DCN\",\"IO\")\n"
   ]
  },
  {
   "cell_type": "code",
   "execution_count": 187,
   "metadata": {},
   "outputs": [
    {
     "data": {
      "text/plain": [
       "100"
      ]
     },
     "execution_count": 187,
     "metadata": {},
     "output_type": "execute_result"
    }
   ],
   "source": [
    "len(reach_io)"
   ]
  },
  {
   "cell_type": "code",
   "execution_count": 126,
   "metadata": {},
   "outputs": [
    {
     "ename": "IndexError",
     "evalue": "only integers, slices (`:`), ellipsis (`...`), numpy.newaxis (`None`) and integer or boolean arrays are valid indices",
     "output_type": "error",
     "traceback": [
      "\u001b[0;31m---------------------------------------------------------------------------\u001b[0m",
      "\u001b[0;31mIndexError\u001b[0m                                Traceback (most recent call last)",
      "\u001b[1;32m/mnt/c/Users/pauls/Desktop/Work/Pasteur_synapse/the_whole_cerebellum/analyze.ipynb Cell 10\u001b[0m in \u001b[0;36m<cell line: 4>\u001b[0;34m()\u001b[0m\n\u001b[1;32m      <a href='vscode-notebook-cell://wsl%2Bubuntu/mnt/c/Users/pauls/Desktop/Work/Pasteur_synapse/the_whole_cerebellum/analyze.ipynb#ch0000026vscode-remote?line=1'>2</a>\u001b[0m connected_in_time \u001b[39m=\u001b[39m \u001b[39mlist\u001b[39m()\n\u001b[1;32m      <a href='vscode-notebook-cell://wsl%2Bubuntu/mnt/c/Users/pauls/Desktop/Work/Pasteur_synapse/the_whole_cerebellum/analyze.ipynb#ch0000026vscode-remote?line=3'>4</a>\u001b[0m \u001b[39mfor\u001b[39;00m t \u001b[39min\u001b[39;00m \u001b[39mrange\u001b[39m(\u001b[39m1\u001b[39m,nb_time_steps):\n\u001b[0;32m----> <a href='vscode-notebook-cell://wsl%2Bubuntu/mnt/c/Users/pauls/Desktop/Work/Pasteur_synapse/the_whole_cerebellum/analyze.ipynb#ch0000026vscode-remote?line=4'>5</a>\u001b[0m     connected_in_time_mean\u001b[39m.\u001b[39mappend(np\u001b[39m.\u001b[39mmean(activity_t[\u001b[39m\"\u001b[39;49m\u001b[39mGC_PC\u001b[39;49m\u001b[39m\"\u001b[39;49m][t][:,connected_gc_pc_zero]\u001b[39m.\u001b[39mflatten()[connected_and_on]))\n\u001b[1;32m      <a href='vscode-notebook-cell://wsl%2Bubuntu/mnt/c/Users/pauls/Desktop/Work/Pasteur_synapse/the_whole_cerebellum/analyze.ipynb#ch0000026vscode-remote?line=5'>6</a>\u001b[0m     connected_in_time\u001b[39m.\u001b[39mappend(activity_t[\u001b[39m\"\u001b[39m\u001b[39mGC_PC\u001b[39m\u001b[39m\"\u001b[39m][t][:,connected_pc]\u001b[39m.\u001b[39mflatten()[connected_and_on])\n",
      "\u001b[0;31mIndexError\u001b[0m: only integers, slices (`:`), ellipsis (`...`), numpy.newaxis (`None`) and integer or boolean arrays are valid indices"
     ]
    }
   ],
   "source": [
    "connected_in_time_mean = list()\n",
    "connected_in_time = list()\n",
    "\n",
    "for t in range(1,nb_time_steps):\n",
    "    connected_in_time_mean.append(np.mean(activity_t[\"GC_PC\"][t][:,connected_gc_pc_zero].flatten()[connected_and_on]))\n",
    "    connected_in_time.append(activity_t[\"GC_PC\"][t][:,connected_pc].flatten()[connected_and_on])"
   ]
  },
  {
   "cell_type": "code",
   "execution_count": null,
   "metadata": {},
   "outputs": [],
   "source": [
    "# reach_io_len_mean=0\n",
    "# sample = 100\n",
    "# for it in range(sample):\n",
    "#     t = 0 \n",
    "#     activity_t = dict()\n",
    "#     for cere_state in whole_model_sim(cere_info,dict_input):\n",
    "#         if t==0:\n",
    "#             for neuron_pop in cere_state[\"neuron_pop\"]:\n",
    "#                 activity_t[neuron_pop]=np.zeros((nb_time_steps,cere_info[\"neuron_pop\"][neuron_pop][\"size\"]))\n",
    "#             activity_t[\"GC_PC\"]=np.zeros((nb_time_steps,cere_info[\"neuron_pop\"][\"GC\"][\"size\"],cere_info[\"neuron_pop\"][\"PC\"][\"size\"]))\n",
    "#         else :\n",
    "#             for neuron_pop in cere_state[\"neuron_pop\"]:\n",
    "#                 activity_t[neuron_pop][t,:]=cere_state[\"neuron_pop\"][neuron_pop][\"local_variables\"][\"activity\"]\n",
    "#             activity_t[\"GC_PC\"][t,:]=cere_state[\"synapse_pop\"][\"GC_PC\"][\"local_variables\"][\"weight\"]\n",
    "#         if t==nb_time_steps-1:\n",
    "#             cere_state_final=cere_state\n",
    "#             break\n",
    "#         t+=1\n",
    "\n",
    "#     connected_io_pc_zero = connected_to_pop(stimulated_IO,\"IO\",\"PC\")\n",
    "#     connected_gc_pc_zero = connected_to_pop(stimulated_GC,\"GC\",\"PC\")\n",
    "#     connected_pt_dcn_zero = connected_to_pop(stimulated_PT,\"PT\",\"DCN\")\n",
    "#     connected_pc_dcn_pop = connected_to_pop(connected_gc_pc_zero,\"PC\",\"DCN\")\n",
    "#     over_pc = connected_gc_pc_zero.intersection(connected_io_pc_zero)\n",
    "#     #over_dcn = connected_pc_dcn_pop.intersection(connected_pt_dcn_zero)\n",
    "#     connected_over_pc_dcn_pop = connected_to_pop(over_pc,\"PC\",\"DCN\")\n",
    "#     reach_io = connected_to_pop(connected_over_pc_dcn_pop,\"DCN\",\"IO\")\n",
    "#     reach_io_len_mean+=len(reach_io)"
   ]
  }
 ],
 "metadata": {
  "kernelspec": {
   "display_name": "Python 3.9.13 ('arm')",
   "language": "python",
   "name": "python3"
  },
  "language_info": {
   "codemirror_mode": {
    "name": "ipython",
    "version": 3
   },
   "file_extension": ".py",
   "mimetype": "text/x-python",
   "name": "python",
   "nbconvert_exporter": "python",
   "pygments_lexer": "ipython3",
   "version": "3.9.13"
  },
  "orig_nbformat": 4,
  "vscode": {
   "interpreter": {
    "hash": "ebdc9409a2cbd21ba6e9ee0041c695ae6ae810d93fcffa8c5113ece54bdb2bcb"
   }
  }
 },
 "nbformat": 4,
 "nbformat_minor": 2
}
