{
 "cells": [
  {
   "cell_type": "code",
   "execution_count": 1,
   "metadata": {},
   "outputs": [],
   "source": [
    "import matplotlib.pyplot as plt\n",
    "import numpy as np\n",
    "from cerebellum_functionnal import *\n",
    "import pprint as pp"
   ]
  },
  {
   "cell_type": "code",
   "execution_count": 2,
   "metadata": {},
   "outputs": [],
   "source": [
    "from utils import *"
   ]
  },
  {
   "cell_type": "code",
   "execution_count": 3,
   "metadata": {},
   "outputs": [],
   "source": [
    "def mean_weight(coupling,nb_connect,size_a,size_b):\n",
    "    return coupling*(1/((nb_connect*size_a)/size_b))\n",
    "\n",
    "def minimum_connect(nb_connect,size_a,size_b):\n",
    "    return int(((nb_connect*size_a)/size_b)/2)"
   ]
  },
  {
   "cell_type": "code",
   "execution_count": 4,
   "metadata": {},
   "outputs": [],
   "source": [
    "input_size=100\n",
    "DCN_size=100\n",
    "IO_size=100\n",
    "GC_size=100\n",
    "PC_size=1000\n",
    "coupling_GC_PC=1\n",
    "coupling_PC_DCN=5\n",
    "coupling_DCN_IO=5\n",
    "coupling_IO_PC=3\n",
    "coupling_PT_GC=1\n",
    "coupling_PT_DCN=1\n",
    "coupling_PT_IO=1\n",
    "\n",
    "#Size of the microzones as a fraction of their respective neuronal population\n",
    "# as an exemple if our PC pop is composed of 1000 neurons, our DCN pop of 100 neurons\n",
    "# and our IO pop of 100 neurons, a microzone of 0.01 will induce that 10 neurons of \n",
    "# the PC pop will communicate with 1 neuron of the DCN pop which will communicate with 1 \n",
    "# neuron of the IO pop which will communicate with the 10 starting neurons from the PC pop.\n",
    "# WARNING : multipling each population of neurons belonging to the microzone pathway by \n",
    "# the chosen microzone_size should give a round number (int) !!!\n",
    "microzone_size=0.01\n",
    "\n",
    "# The number of connection a neuron from the source population will make with the target population.\n",
    "# Random connectivity without microzoning helpful to mix signal from multiple sources from the inputs (pontine neurones)\n",
    "# to the primary targets.\n",
    "nb_connect_GC_PC=100\n",
    "nb_connect_PT_GC=10\n",
    "nb_connect_PT_DCN=10\n",
    "nb_connect_PT_IO=10\n",
    "# The minimum of connection a neuron from the target population should get from the source population\n",
    "minimum_connect_GC_PC = minimum_connect(nb_connect_GC_PC,GC_size,PC_size)\n",
    "minimum_connect_PT_GC = minimum_connect(nb_connect_PT_GC,input_size,GC_size)\n",
    "minimum_connect_PT_DCN = minimum_connect(nb_connect_PT_DCN,input_size,DCN_size)\n",
    "minimum_connect_PT_IO = minimum_connect(nb_connect_PT_IO,input_size,IO_size)\n",
    "\n",
    "\n",
    "cere_info = dict()\n",
    "cere_info[\"microzone_size\"]=microzone_size\n",
    "cere_info[\"neuron_pop\"]=dict()\n",
    "cere_info[\"neuron_pop\"][\"DCN\"]=dict()\n",
    "cere_info[\"neuron_pop\"][\"DCN\"][\"size\"]=DCN_size\n",
    "\n",
    "cere_info[\"neuron_pop\"][\"IO\"]=dict()\n",
    "cere_info[\"neuron_pop\"][\"IO\"][\"size\"]=IO_size\n",
    "\n",
    "cere_info[\"neuron_pop\"][\"GC\"]=dict()\n",
    "cere_info[\"neuron_pop\"][\"GC\"][\"size\"]=GC_size\n",
    "\n",
    "cere_info[\"neuron_pop\"][\"PC\"]=dict()\n",
    "cere_info[\"neuron_pop\"][\"PC\"][\"size\"]=PC_size\n",
    "\n",
    "cere_info[\"neuron_pop\"][\"PT\"]=dict()\n",
    "cere_info[\"neuron_pop\"][\"PT\"][\"size\"]=input_size\n",
    "\n",
    "# create an activity vector variable for each region of the cerebellum (any local variable is considered a vector\n",
    "# and a tuple is used to store the shape)\n",
    "for key in cere_info[\"neuron_pop\"]:\n",
    "    cere_info[\"neuron_pop\"][key][\"local_variables\"]=dict()\n",
    "    cere_info[\"neuron_pop\"][key][\"local_variables\"][\"activity\"] = (cere_info[\"neuron_pop\"][key][\"size\"],1)\n",
    "    pass\n",
    "\n",
    "# Purkinje cells are a little bit special as we add a local variable called calcium to deal with synaptic plasticity\n",
    "\n",
    "cere_info[\"neuron_pop\"][\"PC\"][\"local_variables\"][\"calcium\"] = (cere_info[\"neuron_pop\"][\"PC\"][\"size\"],1)\n",
    "\n",
    "\"\"\" Connection from the microcircuit \"\"\"\n",
    "\n",
    "cere_info[\"synapse_pop\"]=dict()\n",
    "cere_info[\"synapse_pop\"][\"PC_DCN\"]=dict()\n",
    "cere_info[\"synapse_pop\"][\"PC_DCN\"][\"i_o\"]=(\"PC\",\"DCN\")\n",
    "cere_info[\"synapse_pop\"][\"PC_DCN\"][\"nb_connect\"]=None\n",
    "cere_info[\"synapse_pop\"][\"PC_DCN\"][\"type\"]=\"inhibitory\"\n",
    "cere_info[\"synapse_pop\"][\"PC_DCN\"][\"minimum_connect\"]=None\n",
    "cere_info[\"synapse_pop\"][\"PC_DCN\"][\"plastic\"] = False\n",
    "\n",
    "cere_info[\"synapse_pop\"][\"DCN_IO\"]=dict()\n",
    "cere_info[\"synapse_pop\"][\"DCN_IO\"][\"i_o\"]=(\"DCN\",\"IO\")\n",
    "cere_info[\"synapse_pop\"][\"DCN_IO\"][\"nb_connect\"]=None\n",
    "cere_info[\"synapse_pop\"][\"DCN_IO\"][\"type\"]=\"inhibitory\"\n",
    "cere_info[\"synapse_pop\"][\"DCN_IO\"][\"minimum_connect\"]=None\n",
    "cere_info[\"synapse_pop\"][\"DCN_IO\"][\"plastic\"] = False\n",
    "\n",
    "cere_info[\"synapse_pop\"][\"IO_PC\"]=dict()\n",
    "cere_info[\"synapse_pop\"][\"IO_PC\"][\"i_o\"]=(\"IO\",\"PC\")\n",
    "cere_info[\"synapse_pop\"][\"IO_PC\"][\"nb_connect\"]=None\n",
    "cere_info[\"synapse_pop\"][\"IO_PC\"][\"type\"]=\"Undefined\"\n",
    "cere_info[\"synapse_pop\"][\"IO_PC\"][\"minimum_connect\"]=None\n",
    "cere_info[\"synapse_pop\"][\"IO_PC\"][\"plastic\"] = False\n",
    "\n",
    "\"\"\" Connection outside the microcircuit \"\"\"\n",
    "\n",
    "cere_info[\"synapse_pop\"][\"GC_PC\"]=dict()\n",
    "cere_info[\"synapse_pop\"][\"GC_PC\"][\"i_o\"]=(\"GC\",\"PC\")\n",
    "cere_info[\"synapse_pop\"][\"GC_PC\"][\"type\"]=\"excitatory\"\n",
    "cere_info[\"synapse_pop\"][\"GC_PC\"][\"nb_connect\"]=nb_connect_GC_PC\n",
    "cere_info[\"synapse_pop\"][\"GC_PC\"][\"minimum_connect\"]=minimum_connect_GC_PC\n",
    "cere_info[\"synapse_pop\"][\"GC_PC\"][\"plastic\"] = True\n",
    "\n",
    "# cere_info[\"synapse_pop\"][\"PT_GC\"]=dict()\n",
    "# cere_info[\"synapse_pop\"][\"PT_GC\"][\"i_o\"]=(\"PT\",\"GC\")\n",
    "# cere_info[\"synapse_pop\"][\"PT_GC\"][\"type\"]=\"excitatory\"  #PT->GC DISABLED !\n",
    "# cere_info[\"synapse_pop\"][\"PT_GC\"][\"nb_connect\"]=nb_connect_PT_GC\n",
    "# cere_info[\"synapse_pop\"][\"PT_GC\"][\"minimum_connect\"]= minimum_connect_PT_GC\n",
    "# cere_info[\"synapse_pop\"][\"PT_GC\"][\"plastic\"] = False\n",
    "\n",
    "cere_info[\"synapse_pop\"][\"PT_DCN\"]=dict()\n",
    "cere_info[\"synapse_pop\"][\"PT_DCN\"][\"i_o\"]=(\"PT\",\"DCN\")\n",
    "cere_info[\"synapse_pop\"][\"PT_DCN\"][\"type\"]=\"excitatory\"\n",
    "cere_info[\"synapse_pop\"][\"PT_DCN\"][\"nb_connect\"]=nb_connect_PT_DCN\n",
    "cere_info[\"synapse_pop\"][\"PT_DCN\"][\"minimum_connect\"]= minimum_connect_PT_DCN\n",
    "cere_info[\"synapse_pop\"][\"PT_DCN\"][\"plastic\"] = False\n",
    "\n",
    "# cere_info[\"synapse_pop\"][\"PT_IO\"]=dict()\n",
    "# cere_info[\"synapse_pop\"][\"PT_IO\"][\"i_o\"]=(\"PT\",\"IO\")\n",
    "# cere_info[\"synapse_pop\"][\"PT_IO\"][\"type\"]=\"excitatory\" #PT->IO DISABLED !\n",
    "# cere_info[\"synapse_pop\"][\"PT_IO\"][\"nb_connect\"]=nb_connect_PT_IO\n",
    "# cere_info[\"synapse_pop\"][\"PT_IO\"][\"minimum_connect\"]= minimum_connect_PT_IO\n",
    "# cere_info[\"synapse_pop\"][\"PT_IO\"][\"plastic\"] = False\n",
    "\n",
    "\n",
    "nb_converge_PC_DCN=microzone_size*PC_size\n",
    "nb_converge_DCN_IO=microzone_size*DCN_size\n",
    "nb_converge_IO_PC=microzone_size*IO_size\n",
    "\n",
    "\"\"\" Warning : as the connectivity pattern of synapses in the microzone pathway and synapses outside of the microzone pathway\n",
    "# is different, the mean weight is derived from the coupling using different methods\"\"\"\n",
    "#In the microzone pathway\n",
    "cere_info[\"synapse_pop\"][\"PC_DCN\"][\"mean_weight\"]=coupling_PC_DCN/nb_converge_PC_DCN\n",
    "cere_info[\"synapse_pop\"][\"DCN_IO\"][\"mean_weight\"]=coupling_DCN_IO/nb_converge_DCN_IO\n",
    "cere_info[\"synapse_pop\"][\"IO_PC\"][\"mean_weight\"]=coupling_IO_PC/nb_converge_IO_PC\n",
    "\n",
    "#Outside the microzone pathway\n",
    "cere_info[\"synapse_pop\"][\"GC_PC\"][\"mean_weight\"]=mean_weight(coupling_GC_PC,nb_connect_GC_PC,GC_size,PC_size) \n",
    "#cere_info[\"synapse_pop\"][\"PT_GC\"][\"mean_weight\"]=mean_weight(coupling_PT_GC,nb_connect_PT_GC,input_size,GC_size) \n",
    "cere_info[\"synapse_pop\"][\"PT_DCN\"][\"mean_weight\"]=mean_weight(coupling_PT_DCN,nb_connect_PT_DCN,input_size,DCN_size) \n",
    "#cere_info[\"synapse_pop\"][\"PT_IO\"][\"mean_weight\"]=mean_weight(coupling,nb_connect_PT_IO,input_size,IO_size) \n"
   ]
  },
  {
   "cell_type": "code",
   "execution_count": 5,
   "metadata": {},
   "outputs": [],
   "source": [
    "def connected_to(ind_source,source,target):\n",
    "    return set(np.where(cere_state[\"synapse_pop\"][source+\"_\"+target][\"local_variables\"][\"connectivity\"][ind_source]==1)[0])\n",
    "    \n",
    "def connected_to_pop(ind_sources,source,target):\n",
    "    connected=set()\n",
    "    for ind_source in ind_sources:\n",
    "        connected= connected.union(connected_to(ind_source,source,target))\n",
    "    return connected"
   ]
  },
  {
   "cell_type": "code",
   "execution_count": 6,
   "metadata": {},
   "outputs": [],
   "source": [
    "nb_time_steps=6000"
   ]
  },
  {
   "cell_type": "code",
   "execution_count": 21,
   "metadata": {},
   "outputs": [],
   "source": [
    "\"Generate dict input :\"\n",
    "\n",
    "dict_input=dict()\n",
    "for neuron_pop in cere_info[\"neuron_pop\"]:\n",
    "    dict_input[neuron_pop]=dict()\n",
    "    for local_variable in cere_info[\"neuron_pop\"][neuron_pop][\"local_variables\"]:\n",
    "        dict_input[neuron_pop][local_variable]= np.zeros((nb_time_steps,cere_info[\"neuron_pop\"][neuron_pop][\"size\"]))\n",
    "\n",
    "# stimulated_PT=[0,1,2,3,4,5]\n",
    "# stimulated_GC=[0,1,2,3,4,5]\n",
    "# stimulated_IO=[0,1,2,3,4,5]\n",
    "# dict_input[\"PT\"][\"activity\"][:,stimulated_PT] =1 \n",
    "# dict_input[\"GC\"][\"activity\"][:,stimulated_GC] =1 \n",
    "\n",
    "stimulated_IO=range(cere_info[\"neuron_pop\"][\"IO\"][\"size\"])\n",
    "stimulated_DCN=range(cere_info[\"neuron_pop\"][\"DCN\"][\"size\"])\n",
    "stimulated_GC=range(cere_info[\"neuron_pop\"][\"GC\"][\"size\"])\n",
    "dict_input[\"IO\"][\"activity\"][:,stimulated_IO] =1 \n",
    "dict_input[\"DCN\"][\"activity\"][:,stimulated_DCN] =1\n",
    "dict_input[\"GC\"][\"activity\"][:,stimulated_GC] =1"
   ]
  },
  {
   "cell_type": "code",
   "execution_count": 22,
   "metadata": {},
   "outputs": [],
   "source": [
    "t = 0 \n",
    "activity_t = dict()\n",
    "for cere_state in whole_model_sim(cere_info,dict_input):\n",
    "    if t==0:\n",
    "        for neuron_pop in cere_state[\"neuron_pop\"]:\n",
    "            activity_t[neuron_pop]=np.zeros((nb_time_steps,cere_info[\"neuron_pop\"][neuron_pop][\"size\"]))\n",
    "        activity_t[\"GC_PC\"]=np.zeros((nb_time_steps,cere_info[\"neuron_pop\"][\"GC\"][\"size\"],cere_info[\"neuron_pop\"][\"PC\"][\"size\"]))\n",
    "    else :\n",
    "        for neuron_pop in cere_state[\"neuron_pop\"]:\n",
    "            activity_t[neuron_pop][t,:]=cere_state[\"neuron_pop\"][neuron_pop][\"local_variables\"][\"activity\"]\n",
    "        activity_t[\"GC_PC\"][t,:]=cere_state[\"synapse_pop\"][\"GC_PC\"][\"local_variables\"][\"weight\"]\n",
    "    if t==nb_time_steps-1:\n",
    "        cere_state_final=cere_state\n",
    "        break\n",
    "    t+=1"
   ]
  },
  {
   "cell_type": "code",
   "execution_count": 23,
   "metadata": {},
   "outputs": [],
   "source": [
    "#plt.plot([np.mean(i.flatten()) for i in activity_t[\"GC_PC\"]])#we need to remove all zeros\n",
    "#plt.plot([np.mean(t) for t in activity_t[\"PC\"]])\n",
    "#plt.hist(activity_t[\"DCN\"][-1]);"
   ]
  },
  {
   "cell_type": "code",
   "execution_count": 24,
   "metadata": {},
   "outputs": [],
   "source": [
    "connected_pc = np.where(cere_state[\"synapse_pop\"][\"GC_PC\"][\"local_variables\"][\"connectivity\"].flatten()==1)[0]"
   ]
  },
  {
   "cell_type": "code",
   "execution_count": 25,
   "metadata": {},
   "outputs": [],
   "source": [
    "# connected_io_pc_zero = connected_to_pop(stimulated_IO,\"IO\",\"PC\")\n",
    "# connected_gc_pc_zero = connected_to_pop(stimulated_GC,\"GC\",\"PC\")\n",
    "# connected_pt_dcn_zero = connected_to_pop(stimulated_PT,\"PT\",\"DCN\")\n",
    "# connected_pc_dcn_pop = connected_to_pop(connected_gc_pc_zero,\"PC\",\"DCN\")\n",
    "# over_pc = connected_gc_pc_zero.intersection(connected_io_pc_zero)\n",
    "# connected_over_pc_dcn_pop = connected_to_pop(over_pc,\"PC\",\"DCN\")\n",
    "# reach_io = connected_to_pop(connected_over_pc_dcn_pop,\"DCN\",\"IO\")\n",
    "\n",
    "# np_over_pc= np.array(list(over_pc))\n",
    "# connected_over_pc = np.where(cere_state[\"synapse_pop\"][\"GC_PC\"][\"local_variables\"][\"connectivity\"][:,np_over_pc].flatten()==1)[0]\n",
    "# connected_pc = np.where(cere_state[\"synapse_pop\"][\"GC_PC\"][\"local_variables\"][\"connectivity\"].flatten()==1)[0]\n",
    "\n",
    "# connected_in_time_mean = list()\n",
    "# connected_in_time = list()\n",
    "\n",
    "# for t in range(1,nb_time_steps):\n",
    "#     connected_in_time_mean.append(np.mean(activity_t[\"GC_PC\"][t][:,np_over_pc].flatten()[connected_over_pc]))\n",
    "#     connected_in_time.append(activity_t[\"GC_PC\"][t][:,np_over_pc].flatten()[connected_over_pc])\n",
    "\n",
    "# plt.plot(connected_in_time_mean) # All weights goes to zero"
   ]
  },
  {
   "cell_type": "code",
   "execution_count": 26,
   "metadata": {},
   "outputs": [
    {
     "data": {
      "text/plain": [
       "[<matplotlib.lines.Line2D at 0x2156a0804f0>]"
      ]
     },
     "execution_count": 26,
     "metadata": {},
     "output_type": "execute_result"
    },
    {
     "data": {
      "image/png": "[encoded data removed]",
      "text/plain": [
       "<Figure size 432x288 with 1 Axes>"
      ]
     },
     "metadata": {
      "needs_background": "light"
     },
     "output_type": "display_data"
    }
   ],
   "source": [
    "plt.plot([np.mean(i.flatten()[connected_pc]) for i in activity_t[\"GC_PC\"]]) #not representative"
   ]
  },
  {
   "cell_type": "code",
   "execution_count": 29,
   "metadata": {},
   "outputs": [
    {
     "data": {
      "text/plain": [
       "(array([9.958e+03, 5.400e+01, 3.100e+01, 2.500e+01, 2.400e+01, 1.300e+01,\n",
       "        1.000e+01, 3.000e+00, 1.000e+00, 1.000e+00]),\n",
       " array([0.        , 0.02602833, 0.05205666, 0.07808499, 0.10411332,\n",
       "        0.13014165, 0.15616998, 0.18219831, 0.20822664, 0.23425497,\n",
       "        0.2602833 ]),\n",
       " <BarContainer object of 10 artists>)"
      ]
     },
     "execution_count": 29,
     "metadata": {},
     "output_type": "execute_result"
    },
    {
     "data": {
      "image/png": "[encoded data removed]",
      "text/plain": [
       "<Figure size 432x288 with 1 Axes>"
      ]
     },
     "metadata": {
      "needs_background": "light"
     },
     "output_type": "display_data"
    }
   ],
   "source": [
    "plt.hist((activity_t[\"GC_PC\"][-1].flatten())[connected_pc])"
   ]
  },
  {
   "cell_type": "code",
   "execution_count": 30,
   "metadata": {},
   "outputs": [
    {
     "data": {
      "image/png": "[encoded data removed]",
      "text/plain": [
       "<Figure size 432x288 with 1 Axes>"
      ]
     },
     "metadata": {
      "needs_background": "light"
     },
     "output_type": "display_data"
    }
   ],
   "source": [
    "plt.hist(activity_t[\"IO\"][-1]);"
   ]
  },
  {
   "cell_type": "code",
   "execution_count": null,
   "metadata": {},
   "outputs": [],
   "source": [
    "# reach_io_len_mean=0\n",
    "# sample = 100\n",
    "# for it in range(sample):\n",
    "#     t = 0 \n",
    "#     activity_t = dict()\n",
    "#     for cere_state in whole_model_sim(cere_info,dict_input):\n",
    "#         if t==0:\n",
    "#             for neuron_pop in cere_state[\"neuron_pop\"]:\n",
    "#                 activity_t[neuron_pop]=np.zeros((nb_time_steps,cere_info[\"neuron_pop\"][neuron_pop][\"size\"]))\n",
    "#             activity_t[\"GC_PC\"]=np.zeros((nb_time_steps,cere_info[\"neuron_pop\"][\"GC\"][\"size\"],cere_info[\"neuron_pop\"][\"PC\"][\"size\"]))\n",
    "#         else :\n",
    "#             for neuron_pop in cere_state[\"neuron_pop\"]:\n",
    "#                 activity_t[neuron_pop][t,:]=cere_state[\"neuron_pop\"][neuron_pop][\"local_variables\"][\"activity\"]\n",
    "#             activity_t[\"GC_PC\"][t,:]=cere_state[\"synapse_pop\"][\"GC_PC\"][\"local_variables\"][\"weight\"]\n",
    "#         if t==nb_time_steps-1:\n",
    "#             cere_state_final=cere_state\n",
    "#             break\n",
    "#         t+=1\n",
    "\n",
    "#     connected_io_pc_zero = connected_to_pop(stimulated_IO,\"IO\",\"PC\")\n",
    "#     connected_gc_pc_zero = connected_to_pop(stimulated_GC,\"GC\",\"PC\")\n",
    "#     connected_pt_dcn_zero = connected_to_pop(stimulated_PT,\"PT\",\"DCN\")\n",
    "#     connected_pc_dcn_pop = connected_to_pop(connected_gc_pc_zero,\"PC\",\"DCN\")\n",
    "#     over_pc = connected_gc_pc_zero.intersection(connected_io_pc_zero)\n",
    "#     #over_dcn = connected_pc_dcn_pop.intersection(connected_pt_dcn_zero)\n",
    "#     connected_over_pc_dcn_pop = connected_to_pop(over_pc,\"PC\",\"DCN\")\n",
    "#     reach_io = connected_to_pop(connected_over_pc_dcn_pop,\"DCN\",\"IO\")\n",
    "#     reach_io_len_mean+=len(reach_io)"
   ]
  }
 ],
 "metadata": {
  "kernelspec": {
   "display_name": "Python 3.8.8 ('base')",
   "language": "python",
   "name": "python3"
  },
  "language_info": {
   "codemirror_mode": {
    "name": "ipython",
    "version": 3
   },
   "file_extension": ".py",
   "mimetype": "text/x-python",
   "name": "python",
   "nbconvert_exporter": "python",
   "pygments_lexer": "ipython3",
   "version": "3.8.8"
  },
  "orig_nbformat": 4,
  "vscode": {
   "interpreter": {
    "hash": "18cda033bd4d6b0d2dee7667e4e6afc05b741eff93f9364fdbb12c06dc7da402"
   }
  }
 },
 "nbformat": 4,
 "nbformat_minor": 2
}
